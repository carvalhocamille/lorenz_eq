{
 "cells": [
  {
   "cell_type": "markdown",
   "metadata": {},
   "source": [
    "<b>Lorenz System - RK4 Approximation</b>"
   ]
  },
  {
   "cell_type": "code",
   "execution_count": 6,
   "metadata": {},
   "outputs": [
    {
     "name": "stdout",
     "output_type": "stream",
     "text": [
      "[ 1.          0.65646103  0.47724401  0.41987252  0.47350282  0.65573235\n",
      "  1.01477587  1.63304362  2.62250945  4.09072291  6.04882374  8.27081658\n",
      " 10.23876127 11.37584161 11.46259955 10.76730918  9.76538006  8.83656755\n",
      "  8.17909538  7.85549805  7.84920874]\n",
      "[ 1.          0.65646103  0.47724401  0.41987252  0.47350282  0.65573235\n",
      "  1.01477587  1.63304362  2.62250945  4.09072291  6.04882374  8.27081658\n",
      " 10.23876127 11.37584161 11.46259955 10.76730918  9.76538006  8.83656755\n",
      "  8.17909538  7.85549805  7.84920874]\n",
      "[ 1.          0.65646103  0.47724401  0.41987252  0.47350282  0.65573235\n",
      "  1.01477587  1.63304362  2.62250945  4.09072291  6.04882374  8.27081658\n",
      " 10.23876127 11.37584161 11.46259955 10.76730918  9.76538006  8.83656755\n",
      "  8.17909538  7.85549805  7.84920874]\n"
     ]
    }
   ],
   "source": [
    "import numpy as num\n",
    "import matplotlib.pyplot as plt\n",
    "\n",
    "# Lorenz Values, modify values to modify system\n",
    "# NOTE: Lorenz values are typically positive\n",
    "rho = 10\n",
    "sigma = 10\n",
    "beta = 10\n",
    "\n",
    "\n",
    "# Lorenz Equations\n",
    "def LX(t, x, y, z):\n",
    "    return sigma*(y - x)\n",
    "def LY(t, x, y, z):\n",
    "    return x*(rho - z) - y\n",
    "def LZ(t, x, y, z):\n",
    "    return x*y - beta*z\n",
    "\n",
    "# Specialized RK4 for Lorenz Equations\n",
    "def L_RK4(fx, fy, fz, a, b, alphas, N):\n",
    "# INPUTS: functions fx fy fz, bounds a and b, initial cond alpha, number of subintervals\n",
    "# OUTPUTS: approximation of function fx fy fz\n",
    "    h = (b-a)/N\n",
    "    t = a\n",
    "    w = alphas\n",
    "    \n",
    "    x = num.zeros((N+1), dtype = float)\n",
    "    y = x\n",
    "    z = x\n",
    "    \n",
    "    x[0] = w[0]\n",
    "    y[0] = w[1]\n",
    "    z[0] = w[2]\n",
    "    \n",
    "    for j in range(1, N+1):\n",
    "        # Constants for RK4\n",
    "        k1x = h*fx(t,w[0],w[1],w[2])\n",
    "        k1y = h*fy(t,w[0],w[1],w[2])\n",
    "        k1z = h*fz(t,w[0],w[1],w[2])\n",
    "        \n",
    "        k2x = h*fx((t + (h/2)), (w[0] + (k1x/2)), (w[1] + (k1y/2)), (w[2] + (k1z/2)))\n",
    "        k2y = h*fy((t + (h/2)), (w[0] + (k1x/2)), (w[1] + (k1y/2)), (w[2] + (k1z/2)))\n",
    "        k2z = h*fz((t + (h/2)), (w[0] + (k1x/2)), (w[1] + (k1y/2)), (w[2] + (k1z/2)))\n",
    "        \n",
    "        k3x = h*fx((t + (h/2)), (w[0] + (k2x/2)), (w[1] + (k2y/2)), (w[2] + (k2z/2)))\n",
    "        k3y = h*fy((t + (h/2)), (w[0] + (k2x/2)), (w[1] + (k2y/2)), (w[2] + (k2z/2)))\n",
    "        k3z = h*fz((t + (h/2)), (w[0] + (k2x/2)), (w[1] + (k2y/2)), (w[2] + (k2z/2)))\n",
    "        \n",
    "        \n",
    "        k4x = h*fx((t + h), (w[0] + k3x), (w[1] + k3y), (w[2] + k3z))\n",
    "        k4y = h*fy((t + h), (w[0] + k3x), (w[1] + k3y), (w[2] + k3z))\n",
    "        k4z = h*fz((t + h), (w[0] + k3x), (w[1] + k3y), (w[2] + k3z))\n",
    "        \n",
    "        # Definition of wj+1, used for approximation\n",
    "        w[0] = w[0] + (k1x + 2*k2x + 2*k3x + k4x)/6\n",
    "        w[1] = w[1] + (k1y + 2*k2y + 2*k3y + k4y)/6\n",
    "        w[2] = w[2] + (k1z + 2*k2z + 2*k3z + k4z)/6\n",
    "        \n",
    "        t = a + j*h\n",
    "        x[j] = w[0]\n",
    "        y[j] = w[1]\n",
    "        z[j] = w[2]\n",
    "    return x, y, z\n",
    "\n",
    "# range of t values\n",
    "a = 0\n",
    "b = 1\n",
    "# initial value for IVPs\n",
    "alphas = [1,1,1]\n",
    "# number of subintervals used to approximate equations\n",
    "N = 20\n",
    "# (delta)t of the function\n",
    "h = (b-a)/N\n",
    "\n",
    "# Creation of the t Array\n",
    "t = num.arange(a,(b+h),h)\n",
    "    \n",
    "# Creation of the X,Y,Z arrays\n",
    "Y = L_RK4(LX, LY, LZ, a, b, alphas, N)\n",
    "print(Y[0])\n",
    "print(Y[1])\n",
    "print(Y[2])\n"
   ]
  },
  {
   "cell_type": "code",
   "execution_count": null,
   "metadata": {},
   "outputs": [],
   "source": []
  }
 ],
 "metadata": {
  "kernelspec": {
   "display_name": "Python 3",
   "language": "python",
   "name": "python3"
  },
  "language_info": {
   "codemirror_mode": {
    "name": "ipython",
    "version": 3
   },
   "file_extension": ".py",
   "mimetype": "text/x-python",
   "name": "python",
   "nbconvert_exporter": "python",
   "pygments_lexer": "ipython3",
   "version": "3.6.5"
  }
 },
 "nbformat": 4,
 "nbformat_minor": 2
}
